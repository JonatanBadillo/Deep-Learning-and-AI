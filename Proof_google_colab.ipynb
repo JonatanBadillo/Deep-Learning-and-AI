{
  "nbformat": 4,
  "nbformat_minor": 0,
  "metadata": {
    "colab": {
      "provenance": [],
      "authorship_tag": "ABX9TyO+BwJBuRXiRXylnhnCvzoI",
      "include_colab_link": true
    },
    "kernelspec": {
      "name": "python3",
      "display_name": "Python 3"
    },
    "language_info": {
      "name": "python"
    }
  },
  "cells": [
    {
      "cell_type": "markdown",
      "metadata": {
        "id": "view-in-github",
        "colab_type": "text"
      },
      "source": [
        "<a href=\"https://colab.research.google.com/github/JonatanBadillo/Deep-Learning-and-AI/blob/main/Proof_google_colab.ipynb\" target=\"_parent\"><img src=\"https://colab.research.google.com/assets/colab-badge.svg\" alt=\"Open In Colab\"/></a>"
      ]
    },
    {
      "cell_type": "markdown",
      "source": [],
      "metadata": {
        "id": "P7dEEvPn9PRl"
      }
    },
    {
      "cell_type": "markdown",
      "source": [
        "This is a **cell of text**"
      ],
      "metadata": {
        "id": "z7CQbOBk9QUj"
      }
    },
    {
      "cell_type": "code",
      "source": [
        "print('Hello world')"
      ],
      "metadata": {
        "colab": {
          "base_uri": "https://localhost:8080/"
        },
        "id": "ykFyEEtj9ZUy",
        "outputId": "787cbe70-5c4d-4d23-a8ad-cd1b14e9f4c4"
      },
      "execution_count": 1,
      "outputs": [
        {
          "output_type": "stream",
          "name": "stdout",
          "text": [
            "Hello world\n"
          ]
        }
      ]
    }
  ]
}