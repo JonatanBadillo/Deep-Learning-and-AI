{
 "cells": [
  {
   "cell_type": "markdown",
   "metadata": {},
   "source": [
    "# Introduction to Pandas\n",
    "\n",
    "[Pandas](https://pandas.pydata.org/about/index.html) is a library that provides high-performance, easy-to-use data structures and data analysis tools.\n",
    "* The main data structure is the DataFrame, which can be considered as a 2D table in memory (similar to a spreadsheet, with column names and row labels).\n",
    "* Many functions available in Excel can be performed programmatically, such as creating pivot tables, calculating columns based on other columns, plotting graphs, etc.\n",
    "* It offers high performance for manipulating (joining, splitting, modifying, etc.) large datasets.\n",
    "\n",
    "## Import\n",
    "\n",
    "```python\n",
    "import pandas as pd\n"
   ]
  }
 ],
 "metadata": {
  "language_info": {
   "name": "python"
  },
  "orig_nbformat": 4
 },
 "nbformat": 4,
 "nbformat_minor": 2
}
