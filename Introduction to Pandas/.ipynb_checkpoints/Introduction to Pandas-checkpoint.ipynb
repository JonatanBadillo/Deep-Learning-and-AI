{
 "cells": [
  {
   "cell_type": "markdown",
   "metadata": {},
   "source": [
    "# Introduction to Pandas\n",
    "\n",
    "[Pandas](https://pandas.pydata.org/about/index.html) is a library that provides high-performance, easy-to-use data structures and data analysis tools.\n",
    "* The main data structure is the DataFrame, which can be considered as a 2D table in memory (similar to a spreadsheet, with column names and row labels).\n",
    "* Many functions available in Excel can be performed programmatically, such as creating pivot tables, calculating columns based on other columns, plotting graphs, etc.\n",
    "* It offers high performance for manipulating (joining, splitting, modifying, etc.) large datasets.\n",
    "\n",
    "## Import\n"
   ]
  },
  {
   "cell_type": "code",
   "execution_count": null,
   "metadata": {},
   "outputs": [],
   "source": [
    "import pandas as pd"
   ]
  },
  {
   "cell_type": "markdown",
   "metadata": {},
   "source": [
    "## Data Structures in Pandas\n",
    "Pandas library generally contains the following data structures:\n",
    "\n",
    "*   **Series**: 1D array\n",
    "*   **DataFrame**: Corresponds to a 2D table\n",
    "*   **Panel**: Similar to a dictionary of DataFrames"
   ]
  },
  {
   "cell_type": "code",
   "execution_count": null,
   "metadata": {},
   "outputs": [],
   "source": []
  }
 ],
 "metadata": {
  "kernelspec": {
   "display_name": "Python 3 (ipykernel)",
   "language": "python",
   "name": "python3"
  },
  "language_info": {
   "codemirror_mode": {
    "name": "ipython",
    "version": 3
   },
   "file_extension": ".py",
   "mimetype": "text/x-python",
   "name": "python",
   "nbconvert_exporter": "python",
   "pygments_lexer": "ipython3",
   "version": "3.11.5"
  }
 },
 "nbformat": 4,
 "nbformat_minor": 2
}
