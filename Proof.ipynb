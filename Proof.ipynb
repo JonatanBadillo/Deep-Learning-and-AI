{
 "cells": [
  {
   "cell_type": "markdown",
   "id": "d84408a6-7870-4a66-89d1-b2a45bdc2ed4",
   "metadata": {},
   "source": [
    "This is a cell of text"
   ]
  },
  {
   "cell_type": "code",
   "execution_count": 1,
   "id": "54dec6a5-a15a-400a-a085-0371fa606892",
   "metadata": {},
   "outputs": [
    {
     "name": "stdout",
     "output_type": "stream",
     "text": [
      "Hello from Jupyter\n"
     ]
    }
   ],
   "source": [
    "print('Hello from Jupyter')"
   ]
  },
  {
   "cell_type": "code",
   "execution_count": 2,
   "id": "85680d28-37c1-4456-b85e-e22d631dc721",
   "metadata": {},
   "outputs": [
    {
     "name": "stdout",
     "output_type": "stream",
     "text": [
      "Hello World\n"
     ]
    }
   ],
   "source": [
    "print('Hello World')"
   ]
  },
  {
   "cell_type": "code",
   "execution_count": 3,
   "id": "9243d5a3-1e5d-4e5c-94d9-00b45f4530be",
   "metadata": {},
   "outputs": [
    {
     "name": "stdout",
     "output_type": "stream",
     "text": [
      "Hello World\n"
     ]
    }
   ],
   "source": [
    "print('Hello World')"
   ]
  },
  {
   "cell_type": "code",
   "execution_count": null,
   "id": "b8228857-c5ab-4da3-b3b3-3a3e6bb52f92",
   "metadata": {},
   "outputs": [],
   "source": [
    "txt = 'hello world'"
   ]
  },
  {
   "cell_type": "code",
   "execution_count": null,
   "id": "d129f87a-0609-4f59-b6c3-b7de568ddd1b",
   "metadata": {},
   "outputs": [],
   "source": []
  }
 ],
 "metadata": {
  "kernelspec": {
   "display_name": "Python 3 (ipykernel)",
   "language": "python",
   "name": "python3"
  },
  "language_info": {
   "codemirror_mode": {
    "name": "ipython",
    "version": 3
   },
   "file_extension": ".py",
   "mimetype": "text/x-python",
   "name": "python",
   "nbconvert_exporter": "python",
   "pygments_lexer": "ipython3",
   "version": "3.11.5"
  }
 },
 "nbformat": 4,
 "nbformat_minor": 5
}
